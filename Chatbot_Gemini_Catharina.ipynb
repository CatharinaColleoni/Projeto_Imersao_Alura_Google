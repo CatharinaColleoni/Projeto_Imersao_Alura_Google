{
  "nbformat": 4,
  "nbformat_minor": 0,
  "metadata": {
    "colab": {
      "provenance": [],
      "authorship_tag": "ABX9TyPckwpyF15mpPpav0b01+9Q",
      "include_colab_link": true
    },
    "kernelspec": {
      "name": "python3",
      "display_name": "Python 3"
    },
    "language_info": {
      "name": "python"
    }
  },
  "cells": [
    {
      "cell_type": "markdown",
      "metadata": {
        "id": "view-in-github",
        "colab_type": "text"
      },
      "source": [
        "<a href=\"https://colab.research.google.com/github/CatharinaColleoni/Projeto_Imersao_Alura_Google/blob/main/Chatbot_Gemini_Catharina.ipynb\" target=\"_parent\"><img src=\"https://colab.research.google.com/assets/colab-badge.svg\" alt=\"Open In Colab\"/></a>"
      ]
    },
    {
      "cell_type": "markdown",
      "source": [
        "Instalando o SDK do Google"
      ],
      "metadata": {
        "id": "HNS-vCBBrjOy"
      }
    },
    {
      "cell_type": "code",
      "execution_count": null,
      "metadata": {
        "id": "3pb6XOy9obPP"
      },
      "outputs": [],
      "source": [
        "!pip install -q -U google-generativeai"
      ]
    },
    {
      "cell_type": "code",
      "source": [
        "import google.generativeai as genai\n",
        "from google.colab import userdata\n",
        "api_key = userdata.get('secret_key')\n",
        "genai.configure(api_key=api_key)"
      ],
      "metadata": {
        "id": "uNF2RXF8sDfK"
      },
      "execution_count": 25,
      "outputs": []
    },
    {
      "cell_type": "markdown",
      "source": [
        "Listar os modelos disponíveis"
      ],
      "metadata": {
        "id": "aVF1Cu4bshVT"
      }
    },
    {
      "cell_type": "code",
      "source": [
        "for m in genai.list_models():\n",
        "  if 'generateContent' in m.supported_generation_methods:\n",
        "    print(m.name)"
      ],
      "metadata": {
        "colab": {
          "base_uri": "https://localhost:8080/",
          "height": 139
        },
        "id": "zeqevR29sfBw",
        "outputId": "0ff50a71-1747-45ab-ca5b-7c8e5d11a0d6"
      },
      "execution_count": null,
      "outputs": [
        {
          "output_type": "stream",
          "name": "stdout",
          "text": [
            "models/gemini-1.0-pro\n",
            "models/gemini-1.0-pro-001\n",
            "models/gemini-1.0-pro-latest\n",
            "models/gemini-1.0-pro-vision-latest\n",
            "models/gemini-1.5-pro-latest\n",
            "models/gemini-pro\n",
            "models/gemini-pro-vision\n"
          ]
        }
      ]
    },
    {
      "cell_type": "markdown",
      "source": [
        "Configurações do modelo (aleatoriedade das respostas)"
      ],
      "metadata": {
        "id": "DeHqybRnxvsC"
      }
    },
    {
      "cell_type": "code",
      "source": [
        "generation_config = {\n",
        "    'candidate_count': 1,\n",
        "    'temperature': 0.5,\n",
        "}"
      ],
      "metadata": {
        "id": "LHf1K515vnc3"
      },
      "execution_count": null,
      "outputs": []
    },
    {
      "cell_type": "markdown",
      "source": [
        "Parâmetros de segurança"
      ],
      "metadata": {
        "id": "ZVt3GMcgxrld"
      }
    },
    {
      "cell_type": "code",
      "source": [
        "safety_settings = {\n",
        "    'HARASSMENT': 'BLOCK_NONE',\n",
        "    'HATE': 'BLOCK_NONE',\n",
        "    'SEXUAL': 'BLOCK_NONE',\n",
        "    'DANGEROUS': 'BLOCK_NONE',\n",
        "}"
      ],
      "metadata": {
        "id": "tczYwjOAwiij"
      },
      "execution_count": null,
      "outputs": []
    },
    {
      "cell_type": "markdown",
      "source": [
        "Inicializando o modelo\n"
      ],
      "metadata": {
        "id": "VnjxgZljx4sR"
      }
    },
    {
      "cell_type": "code",
      "source": [
        "model = genai.GenerativeModel(model_name='gemini-1.0-pro',\n",
        "                              generation_config=generation_config,\n",
        "                              safety_settings=safety_settings)"
      ],
      "metadata": {
        "id": "0kvDIV_2x6AI"
      },
      "execution_count": null,
      "outputs": []
    },
    {
      "cell_type": "code",
      "source": [
        "response = model.generate_content ('Me dê 10 nomes dos melhores jogos dos últimos tempos.')\n",
        "print(response.text)"
      ],
      "metadata": {
        "colab": {
          "base_uri": "https://localhost:8080/",
          "height": 191
        },
        "id": "mJq5TZCLzMZq",
        "outputId": "cd2a46fe-1ce3-4d19-e835-d74d8506cdaf"
      },
      "execution_count": null,
      "outputs": [
        {
          "output_type": "stream",
          "name": "stdout",
          "text": [
            "1. Elden Ring\n",
            "2. God of War Ragnarök\n",
            "3. The Legend of Zelda: Tears of the Kingdom\n",
            "4. Horizon Forbidden West\n",
            "5. Grand Theft Auto V\n",
            "6. Red Dead Redemption 2\n",
            "7. The Witcher 3: Wild Hunt\n",
            "8. Minecraft\n",
            "9. Stardew Valley\n",
            "10. Fortnite\n"
          ]
        }
      ]
    },
    {
      "cell_type": "markdown",
      "source": [
        "CHATBOT"
      ],
      "metadata": {
        "id": "KAT0ZrVt0PJ9"
      }
    },
    {
      "cell_type": "code",
      "source": [
        "chat = model.start_chat(history=[])"
      ],
      "metadata": {
        "id": "y8p_KMLc0Q9i"
      },
      "execution_count": null,
      "outputs": []
    },
    {
      "cell_type": "code",
      "source": [
        "prompt = input('Esperando prompt: ')\n",
        "\n",
        "while prompt != 'fim':\n",
        "  response = chat.send_message(prompt)\n",
        "  print('Resposta: ', response.text, '\\n')\n",
        "  prompt = input('Esperando prompt: ')"
      ],
      "metadata": {
        "colab": {
          "base_uri": "https://localhost:8080/",
          "height": 451
        },
        "id": "1F4alGC803Gw",
        "outputId": "309238a6-a36b-4c17-db6a-d820e25307f4"
      },
      "execution_count": null,
      "outputs": [
        {
          "name": "stdout",
          "output_type": "stream",
          "text": [
            "Esperando prompt: Quantos planetas existem no sistema solar?\n",
            "Resposta:  8 \n",
            "\n",
            "Esperando prompt: Quais são estes planetas e qual(is) suportam vida em sua superfície?\n",
            "Resposta:  **Planetas do Sistema Solar:**\n",
            "\n",
            "* Mercúrio\n",
            "* Vênus\n",
            "* Terra\n",
            "* Marte\n",
            "* Júpiter\n",
            "* Saturno\n",
            "* Urano\n",
            "* Netuno\n",
            "\n",
            "**Planeta(s) que suportam vida em sua superfície:**\n",
            "\n",
            "* **Terra**\n",
            "\n",
            "Não há evidências científicas de vida em nenhum outro planeta do Sistema Solar além da Terra. \n",
            "\n",
            "Esperando prompt: Fim\n",
            "Resposta:  Obrigado por conversar comigo. Espero que tenha gostado da nossa conversa. Se você tiver mais alguma dúvida, não hesite em perguntar. \n",
            "\n",
            "Esperando prompt: fim\n"
          ]
        }
      ]
    },
    {
      "cell_type": "code",
      "source": [
        "#Melhorando a visualização\n",
        "#Código disponível em https://ai.google.dev/gemini-api/docs/get-started/python?hl=pt-br\n",
        "import textwrap\n",
        "from IPython.display import display\n",
        "from IPython.display import Markdown\n",
        "\n",
        "\n",
        "def to_markdown(text):\n",
        "  text = text.replace('•', '  *')\n",
        "  return Markdown(textwrap.indent(text, '> ', predicate=lambda _: True))\n",
        "\n",
        "#Imprimindo o histórico\n",
        "for message in chat.history:\n",
        "  display(to_markdown(f'**{message.role}**: {message.parts[0].text}'))\n",
        "  print('-------------------------------------------')"
      ],
      "metadata": {
        "id": "Mf5MjVCL3R8g"
      },
      "execution_count": null,
      "outputs": []
    }
  ]
}